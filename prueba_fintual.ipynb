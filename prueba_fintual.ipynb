{
  "cells": [
    {
      "cell_type": "markdown",
      "metadata": {},
      "source": [
        "Construct a simple Portfolio class that has a collection of Stocks and a “Profit” method that receives 2 dates and returns the profit of the Portfolio between those dates. Assume each Stock has a “Price” method that receives a date and returns its price. Bonus Track: make the Profit method return the “annualized return” of the portfolio between the given dates."
      ]
    },
    {
      "cell_type": "code",
      "execution_count": 8,
      "metadata": {},
      "outputs": [],
      "source": [
        "from datetime import date\n",
        "from typing import Dict, List, Tuple"
      ]
    },
    {
      "cell_type": "markdown",
      "metadata": {},
      "source": [
        "# Stock"
      ]
    },
    {
      "cell_type": "markdown",
      "metadata": {},
      "source": [
        "Clase que representa una acción con su nombre y los precios asociados a fechas específicas\n"
      ]
    },
    {
      "cell_type": "code",
      "execution_count": 9,
      "metadata": {},
      "outputs": [],
      "source": [
        "class Stock:\n",
        "    def __init__(self, name: str, prices: Dict[date, float]):\n",
        "        # Inicializa la acción con un nombre y un diccionario de precios donde la clave es la fecha y el valor es el precio en esa fecha\n",
        "        self.name = name\n",
        "        self.prices = prices\n",
        "\n",
        "    # Método que retorna el precio de la acción en una fecha específica\n",
        "    def Price(self, target_date: date) -> float:\n",
        "        # Si no hay un precio para la fecha especificada, se lanza una excepción\n",
        "        if target_date not in self.prices:\n",
        "            raise ValueError(f\"No price available for {self.name} on {target_date}\")\n",
        "        # Retorna el precio de la acción en la fecha objetivo\n",
        "        return self.prices[target_date]"
      ]
    },
    {
      "cell_type": "code",
      "execution_count": 10,
      "metadata": {},
      "outputs": [],
      "source": [
        "# Datos de ejemplo para Apple (AAPL)\n",
        "apple_stock = Stock(\"AAPL\", {\n",
        "    date(2023, 1, 1): 145.00,\n",
        "    date(2023, 2, 1): 147.50,\n",
        "    date(2023, 3, 1): 144.25,\n",
        "    date(2023, 4, 1): 148.75,\n",
        "    date(2023, 5, 1): 150.00,\n",
        "    date(2023, 6, 1): 153.50,\n",
        "    date(2023, 7, 1): 155.75,\n",
        "    date(2023, 8, 1): 157.00,\n",
        "    date(2023, 9, 1): 156.25,\n",
        "    date(2023, 10, 1): 158.50,\n",
        "    date(2023, 11, 1): 160.00,\n",
        "    date(2023, 12, 31): 162.50\n",
        "})\n",
        "\n",
        "# Datos de ejemplo para Google (GOOGL)\n",
        "google_stock = Stock(\"GOOGL\", {\n",
        "    date(2023, 1, 1): 2800.00,\n",
        "    date(2023, 2, 1): 2825.00,\n",
        "    date(2023, 3, 1): 2790.00,\n",
        "    date(2023, 4, 1): 2850.00,\n",
        "    date(2023, 5, 1): 2875.00,\n",
        "    date(2023, 6, 1): 2900.00,\n",
        "    date(2023, 7, 1): 2930.00,\n",
        "    date(2023, 8, 1): 2950.00,\n",
        "    date(2023, 9, 1): 2940.00,\n",
        "    date(2023, 10, 1): 2975.00,\n",
        "    date(2023, 11, 1): 3000.00,\n",
        "    date(2023, 12, 31): 3050.00\n",
        "})\n"
      ]
    },
    {
      "cell_type": "markdown",
      "metadata": {},
      "source": [
        "# Portfolio"
      ]
    },
    {
      "cell_type": "markdown",
      "metadata": {},
      "source": [
        "Clase que representa una cartera de inversiones que contiene varias acciones\n"
      ]
    },
    {
      "cell_type": "code",
      "execution_count": 11,
      "metadata": {},
      "outputs": [],
      "source": [
        "class Portfolio:\n",
        "    def __init__(self):\n",
        "        # Inicializa la cartera con una lista vacía de participaciones (acciones y cantidades)\n",
        "        self.holdings: List[Tuple[Stock, int]] = []\n",
        "\n",
        "    # Método para agregar una acción a la cartera con una cantidad específica\n",
        "    def add_stock(self, stock: Stock, quantity: int) -> None:\n",
        "        # Si la cantidad es menor o igual a cero, se lanza una excepción\n",
        "        if quantity <= 0:\n",
        "            raise ValueError(\"Quantity must be positive\")\n",
        "        # Agrega la acción y su cantidad a la lista de participaciones\n",
        "        self.holdings.append((stock, quantity))\n",
        "\n",
        "    # Método para calcular la ganancia total y el rendimiento anualizado entre dos fechas\n",
        "    def Profit(self, start_date: date, end_date: date) -> Tuple[float, float]:\n",
        "        # Verifica que la fecha de inicio sea anterior a la fecha de finalización\n",
        "        if start_date >= end_date:\n",
        "            raise ValueError(\"Start date must be before end date\")\n",
        "\n",
        "        try:\n",
        "            # Calcula el valor de la cartera en la fecha de inicio sumando el producto del precio de la acción y la cantidad poseída\n",
        "            start_value = sum(stock.Price(start_date) * quantity for stock, quantity in self.holdings)\n",
        "            # Calcula el valor de la cartera en la fecha de finalización de la misma manera\n",
        "            end_value = sum(stock.Price(end_date) * quantity for stock, quantity in self.holdings)\n",
        "\n",
        "        except ValueError as e:\n",
        "            # Si hay un error al calcular el valor de la cartera (por ejemplo, falta de precios), se lanza una excepción\n",
        "            raise ValueError(f\"Error calculating portfolio value: {str(e)}\")\n",
        "\n",
        "        # Calcula la ganancia total como la diferencia entre el valor al final y el valor al inicio\n",
        "        total_profit = end_value - start_value\n",
        "        \n",
        "        # Calcula el rendimiento anualizado basado en el número de días entre las dos fechas\n",
        "        days = (end_date - start_date).days\n",
        "        if days == 0:\n",
        "            raise ValueError(\"Start and end dates cannot be the same\")\n",
        "        if start_value == 0:\n",
        "            raise ValueError(\"Cannot calculate return when starting value is zero\")\n",
        "\n",
        "        # Calcula el retorno total y luego lo anualiza\n",
        "        total_return = end_value / start_value - 1\n",
        "        annualized_return = ((1 + total_return) ** (365.0 / days)) - 1\n",
        "        \n",
        "        # Retorna la ganancia total y el rendimiento anualizado como una tupla\n",
        "        return total_profit, annualized_return"
      ]
    },
    {
      "cell_type": "markdown",
      "metadata": {},
      "source": [
        "# Ejemplo de uso"
      ]
    },
    {
      "cell_type": "code",
      "execution_count": 12,
      "metadata": {},
      "outputs": [
        {
          "name": "stdout",
          "output_type": "stream",
          "text": [
            "Total Profit: $1425.00\n",
            "Annualized Return: 9.25%\n"
          ]
        }
      ],
      "source": [
        "# Crear y llenar la cartera con las acciones y cantidades especificadas\n",
        "portfolio = Portfolio()\n",
        "portfolio.add_stock(apple_stock, 10)  # 10 acciones de Apple\n",
        "portfolio.add_stock(google_stock, 5)  # 5 acciones de Google\n",
        "\n",
        "# Fechas para calcular el beneficio y rendimiento anualizado\n",
        "start_date = date(2023, 1, 1)\n",
        "end_date = date(2023, 12, 31)\n",
        "\n",
        "try:\n",
        "    # Calcular y mostrar el beneficio total y el rendimiento anualizado\n",
        "    profit, annualized_return = portfolio.Profit(start_date, end_date)\n",
        "    print(f\"Total Profit: ${profit:.2f}\")\n",
        "    print(f\"Annualized Return: {annualized_return:.2%}\")\n",
        "except ValueError as e:\n",
        "    # En caso de error, mostrar el mensaje de error\n",
        "    print(f\"Error: {e}\")\n"
      ]
    }
  ],
  "metadata": {
    "colab": {
      "provenance": []
    },
    "kernelspec": {
      "display_name": "Python 3",
      "name": "python3"
    },
    "language_info": {
      "name": "python"
    }
  },
  "nbformat": 4,
  "nbformat_minor": 0
}
